{
 "cells": [
  {
   "cell_type": "code",
   "execution_count": 8,
   "id": "dd4d3e29-f334-4594-9c58-efd9f1b17a4b",
   "metadata": {},
   "outputs": [],
   "source": [
    "from pyspark.sql import SparkSession, functions as F\n",
    "\n",
    "spark = (SparkSession.builder\n",
    "                    .appName('thailand')\n",
    "                    .getOrCreate()\n",
    "        )"
   ]
  },
  {
   "cell_type": "code",
   "execution_count": 9,
   "id": "a6a4a1d9-2d52-4745-b732-46bf32347abb",
   "metadata": {},
   "outputs": [],
   "source": [
    "df = spark.read.parquet(\"thailand_domestic_tourism_2019_2023_ver2.parquet\")\n"
   ]
  },
  {
   "cell_type": "code",
   "execution_count": 3,
   "id": "e1f4bf54-9b8a-4316-a311-9d6b8bf235d4",
   "metadata": {},
   "outputs": [
    {
     "data": {
      "text/plain": [
       "DataFrame[date: timestamp_ntz, province_thai: string, province_eng: string, region_thai: string, region_eng: string, variable: string, value: double]"
      ]
     },
     "execution_count": 3,
     "metadata": {},
     "output_type": "execute_result"
    }
   ],
   "source": [
    "df"
   ]
  },
  {
   "cell_type": "code",
   "execution_count": 4,
   "id": "a80ef4b6-688c-4a05-a85c-371cb786806c",
   "metadata": {},
   "outputs": [
    {
     "data": {
      "text/plain": [
       "['date',\n",
       " 'province_thai',\n",
       " 'province_eng',\n",
       " 'region_thai',\n",
       " 'region_eng',\n",
       " 'variable',\n",
       " 'value']"
      ]
     },
     "execution_count": 4,
     "metadata": {},
     "output_type": "execute_result"
    }
   ],
   "source": [
    "df.columns"
   ]
  },
  {
   "cell_type": "code",
   "execution_count": 21,
   "id": "d4af9c53-3cfc-4329-809b-f93fa24a009e",
   "metadata": {},
   "outputs": [
    {
     "data": {
      "text/plain": [
       "[Row(date=datetime.datetime(2019, 1, 1, 0, 0), province_thai='กรุงเทพมหานคร', province_eng='Bangkok', region_thai='ภาคกลาง', region_eng='central', variable='ratio_tourist_stay', value=93.37),\n",
       " Row(date=datetime.datetime(2019, 1, 1, 0, 0), province_thai='ลพบุรี', province_eng='Lopburi ', region_thai='ภาคกลาง', region_eng='central', variable='ratio_tourist_stay', value=61.32),\n",
       " Row(date=datetime.datetime(2019, 1, 1, 0, 0), province_thai='พระนครศรีอยุธยา', province_eng='Phra Nakhon Si Ayutthaya ', region_thai='ภาคกลาง', region_eng='central', variable='ratio_tourist_stay', value=73.37),\n",
       " Row(date=datetime.datetime(2019, 1, 1, 0, 0), province_thai='สระบุรี', province_eng='Saraburi ', region_thai='ภาคกลาง', region_eng='central', variable='ratio_tourist_stay', value=67.33),\n",
       " Row(date=datetime.datetime(2019, 1, 1, 0, 0), province_thai='ชัยนาท', province_eng='Chainat ', region_thai='ภาคกลาง', region_eng='central', variable='ratio_tourist_stay', value=79.31),\n",
       " Row(date=datetime.datetime(2019, 1, 1, 0, 0), province_thai='นครปฐม', province_eng='Nakhon Pathom ', region_thai='ภาคกลาง', region_eng='central', variable='ratio_tourist_stay', value=71.7),\n",
       " Row(date=datetime.datetime(2019, 1, 1, 0, 0), province_thai='สิงห์บุรี', province_eng='Sing Buri ', region_thai='ภาคกลาง', region_eng='central', variable='ratio_tourist_stay', value=64.65),\n",
       " Row(date=datetime.datetime(2019, 1, 1, 0, 0), province_thai='อ่างทอง', province_eng='Ang Thong ', region_thai='ภาคกลาง', region_eng='central', variable='ratio_tourist_stay', value=71.21),\n",
       " Row(date=datetime.datetime(2019, 1, 1, 0, 0), province_thai='นนทบุรี', province_eng='Nonthaburi ', region_thai='ภาคกลาง', region_eng='central', variable='ratio_tourist_stay', value=75.07),\n",
       " Row(date=datetime.datetime(2019, 1, 1, 0, 0), province_thai='ปทุมธานี', province_eng='Pathum Thani ', region_thai='ภาคกลาง', region_eng='central', variable='ratio_tourist_stay', value=60.77)]"
      ]
     },
     "execution_count": 21,
     "metadata": {},
     "output_type": "execute_result"
    }
   ],
   "source": [
    "df.head(10)"
   ]
  },
  {
   "cell_type": "code",
   "execution_count": 10,
   "id": "b37f3f93-db08-4dd8-9dbb-f9ff3696cfd1",
   "metadata": {},
   "outputs": [],
   "source": [
    "pivoted_df = df.groupBy(\"date\", \"province_eng\") \\\n",
    "    .pivot(\"variable\") \\\n",
    "    .agg(F.first(\"value\"))"
   ]
  },
  {
   "cell_type": "code",
   "execution_count": 12,
   "id": "adbd4455-cef1-4a54-a685-32c0a9d17a4f",
   "metadata": {},
   "outputs": [
    {
     "data": {
      "text/plain": [
       "Row(date=datetime.datetime(2019, 5, 1, 0, 0), province_eng='Ubon Ratchathani ', no_tourist_all=282088.0, no_tourist_foreign=12953.0, no_tourist_stay=111533.0, no_tourist_thai=269135.0, ratio_tourist_stay=65.74, revenue_all=645720000.0, revenue_foreign=51370000.0, revenue_thai=594350000.0)"
      ]
     },
     "execution_count": 12,
     "metadata": {},
     "output_type": "execute_result"
    }
   ],
   "source": [
    "pivoted_df.head()"
   ]
  },
  {
   "cell_type": "code",
   "execution_count": 13,
   "id": "64e8d9e9-1bbd-4276-bcd2-13328815cf68",
   "metadata": {},
   "outputs": [],
   "source": [
    "result_df = pivoted_df.select(\n",
    "    \"date\",\n",
    "    \"province_eng\",\n",
    "    (F.col(\"no_tourist_foreign\") / F.col(\"no_tourist_all\")).alias(\"no_percentage_of_foreign_tourists\"),\n",
    "    (F.col(\"revenue_foreign\") / F.col(\"revenue_all\")).alias(\"revenue_percentage_of_foreign_tourists\")\n",
    ")"
   ]
  },
  {
   "cell_type": "code",
   "execution_count": 17,
   "id": "66c49955-61d5-4bdb-b215-01966029a3d2",
   "metadata": {},
   "outputs": [],
   "source": [
    "import json\n",
    "\n",
    "rows = result_df.toJSON().collect()\n",
    "\n",
    "with open('output.json', 'w') as f:\n",
    "    json.dump(rows, f)"
   ]
  },
  {
   "cell_type": "code",
   "execution_count": null,
   "id": "79e6e97a-f667-473c-b428-f48281bec7fc",
   "metadata": {},
   "outputs": [],
   "source": [
    "df_final = (df_no_all\n",
    "    .join(df_no_foreign, on=[\"date\", \"province_eng\"])\n",
    "    .join(df_rev_all, on=[\"date\", \"province_eng\"])\n",
    "    .join(df_rev_foreign, on=[\"date\", \"province_eng\"])\n",
    "    .selectExpr(\n",
    "        \"date\"\n",
    "        ,\"province_eng\"\n",
    "        ,\"no_tourist_foreign / no_tourist_all as no_percentage_of_foreign_tourists\"\n",
    "        ,\"revenue_foreign / revenue_all as revenue_percentage_of_foreign_tourists\"\n",
    "    )\n",
    ")\n",
    "\n",
    "# Write to JSON file\n",
    "df_final.write.json(\"challenge.json\")"
   ]
  }
 ],
 "metadata": {
  "kernelspec": {
   "display_name": "Python 3 (ipykernel)",
   "language": "python",
   "name": "python3"
  },
  "language_info": {
   "codemirror_mode": {
    "name": "ipython",
    "version": 3
   },
   "file_extension": ".py",
   "mimetype": "text/x-python",
   "name": "python",
   "nbconvert_exporter": "python",
   "pygments_lexer": "ipython3",
   "version": "3.11.10"
  }
 },
 "nbformat": 4,
 "nbformat_minor": 5
}
